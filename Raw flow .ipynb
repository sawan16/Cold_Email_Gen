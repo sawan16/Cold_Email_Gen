{
 "cells": [
  {
   "cell_type": "code",
   "execution_count": null,
   "id": "83d84873",
   "metadata": {},
   "outputs": [],
   "source": [
    "key = \"<your groq key>\""
   ]
  },
  {
   "cell_type": "code",
   "execution_count": 15,
   "id": "8a890fd9",
   "metadata": {},
   "outputs": [],
   "source": [
    "from langchain_groq import ChatGroq"
   ]
  },
  {
   "cell_type": "code",
   "execution_count": 16,
   "id": "55bf04d8",
   "metadata": {},
   "outputs": [
    {
     "data": {
      "text/plain": [
       "'The current Prime Minister of India is Narendra Modi. He has been in office since May 2014. He is a member of the Bharatiya Janata Party (BJP) and is also a member of parliament from the Varanasi constituency. Before serving as Prime Minister, Modi was the Chief Minister of Gujarat from 2001 to 2014. He is known for his economic reforms and nationalist policies.'"
      ]
     },
     "execution_count": 16,
     "metadata": {},
     "output_type": "execute_result"
    }
   ],
   "source": [
    "llm = ChatGroq(\n",
    "        temperature=0,\n",
    "        groq_api_key = key\n",
    "        #model_name=\"llama-3.1-70b-versatile\"\n",
    ")\n",
    "\n",
    "response = llm.invoke(\"Who is the PM of India?\")\n",
    "\n",
    "response.content"
   ]
  },
  {
   "cell_type": "code",
   "execution_count": 1,
   "id": "ede94789",
   "metadata": {},
   "outputs": [],
   "source": [
    "import chromadb"
   ]
  },
  {
   "cell_type": "code",
   "execution_count": 2,
   "id": "f4c1b298",
   "metadata": {},
   "outputs": [],
   "source": [
    "client = chromadb.Client()"
   ]
  },
  {
   "cell_type": "code",
   "execution_count": 3,
   "id": "8fd0b471",
   "metadata": {},
   "outputs": [],
   "source": [
    "collection = client.create_collection(name=\"my_collection\")"
   ]
  },
  {
   "cell_type": "code",
   "execution_count": 4,
   "id": "9d535274",
   "metadata": {},
   "outputs": [
    {
     "name": "stderr",
     "output_type": "stream",
     "text": [
      "C:\\Users\\SRMAP\\.cache\\chroma\\onnx_models\\all-MiniLM-L6-v2\\onnx.tar.gz: 100%|█████| 79.3M/79.3M [00:57<00:00, 1.45MiB/s]\n"
     ]
    }
   ],
   "source": [
    "collection.add(\n",
    "    documents=[\"new delhi\", \"Jabalpur\", \"Mumbai\"],\n",
    "    ids=[\"id1\", \"id2\", \"id3\"])"
   ]
  },
  {
   "cell_type": "code",
   "execution_count": 11,
   "id": "92832702",
   "metadata": {},
   "outputs": [
    {
     "data": {
      "text/plain": [
       "{'ids': [['id3', 'id1']],\n",
       " 'distances': [[1.599498987197876, 1.71663498878479]],\n",
       " 'metadatas': [[None, None]],\n",
       " 'embeddings': None,\n",
       " 'documents': [['Mumbai', 'new delhi']],\n",
       " 'uris': None,\n",
       " 'data': None,\n",
       " 'included': ['metadatas', 'documents', 'distances']}"
      ]
     },
     "execution_count": 11,
     "metadata": {},
     "output_type": "execute_result"
    }
   ],
   "source": [
    "collection.query(\n",
    "    query_texts=[' air polution'],\n",
    "    n_results=2\n",
    ")"
   ]
  },
  {
   "cell_type": "code",
   "execution_count": 12,
   "id": "1d9e18a1",
   "metadata": {},
   "outputs": [],
   "source": [
    "from langchain_community.document_loaders import WebBaseLoader"
   ]
  },
  {
   "cell_type": "code",
   "execution_count": 29,
   "id": "7c905c7f",
   "metadata": {},
   "outputs": [
    {
     "name": "stdout",
     "output_type": "stream",
     "text": [
      "Apply for Lead Cyber Defense Incident Responder\n",
      "\n",
      "Search JobsSkip navigationSearch JobsNIKE, INC. JOBSContract JobsJoin The Talent CommunityLife @ NikeOverviewBenefitsBrandsOverviewJordanConverseTeamsOverviewAdministrative SupportAdvanced InnovationAir Manufacturing InnovationAviationCommunicationsCustomer ServiceDesignDigitalFacilitiesFinance & AccountingGovernment & Public AffairsHuman ResourcesInsights & AnalyticsLegalManufacturing & EngineeringMarketingMerchandisingPlanningPrivacyProcurementProduct Creation, Development & ManagementRetail CorporateRetail StoresSalesSocial & Community ImpactSports MarketingStrategic PlanningSupply Chain, Distribution & LogisticsSustainabilityTechnologyLocationsOverviewNike WHQNike New York HQEHQ: Hilversum, The NetherlandsELC: Laakdal, BelgiumGreater China HQDiversity, Equity & InclusionOverviewMilitary InclusionDisability InclusionIndigenous InclusionInternshipsTechnologyLead Cyber Defense Incident ResponderShanghai, China MainlandBecome a Part of the NIKE, Inc. TeamNIKE, Inc. does more than outfit the world’s best athletes. It is a place to explore potential, obliterate boundaries and push out the edges of what can be. The company looks for people who can grow, think, dream and create. Its culture thrives by embracing diversity and rewarding imagination. The brand seeks achievers, leaders and visionaries. At NIKE, Inc. it’s about each person bringing skills and passion to a challenging and constantly evolving game.NIKE is a technology company. From our flagship website and five-star mobile apps to developing products, managing big data and providing leading edge engineering and systems support, our teams at NIKE Global Technology exist to revolutionize the future at the confluence of tech and sport. We invest and develop advances in technology and employ the most creative people in the world, and then give them the support to constantly innovate, iterate and serve consumers more directly and personally.  Our teams are innovative, diverse, multidisciplinary and collaborative, taking technology into the future and bringing the world with it.Become a Part of the Nike Team Nike does more than outfit the world’s best athletes. We are a place to explore potential, obliterate boundaries, and push out the edges of what can be. We’re looking for people who can grow, think, dream and create. We thrive in a culture that embraces diversity and rewards imagination. We seek achievers, leaders and visionaries. At Nike, it’s about bringing what you have to a challenging and constantly evolving game. Nike Tech brings together technology and process expertise to create value for the consumer. We deliver one-stop, integrated process and technology capabilities that enable Nike, Inc.'s businesses and brands worldwide. Our focus is on providing lean solutions that eliminate waste, maximize consumer value, and drive profitable business growth. The Lead Cyber Defense Incident Responder will be responsible for identifying, containing and eradicating cyber security incidents. This position uses a wide range of tools and experience to perform the incident response functions, focusing primarily on cloud security, application security and Unix/Linux operating systems. You will work closely with Incident Coordinators and will assist in defining the scope, framework and procedures to facilitate and measure successful security incident management. Further this position will be responsible for working with other Information Security staff to enhance or develop new security controls to proactively reduce further issues or provide enriched detective and reactive capabilities. Successful Lead Cyber Defense Incident Responders must be detail oriented, have exceptional organizational, written, and verbal communication skills adept at remaining calm and making good decisions under pressure, and a drive to enhance security controls.What We're Looking ForTo make it clear, we're not looking for just anyone.  We're looking for someone special, someone who has in-depth experience and clearly demonstrates these skills: Experience DesiredSolid knowledge of information security principles and practiceMinimum five years of security monitoring experience and incident response activities; preferably within a professional services firm or similar environmentStrong knowledge of incident response and crisis management with the ability to identify both tactical and strategic solutions using strong verbal and written communication skillProven track record of creating an incident management framework and processesComfortable with interfacing with other internal or external organizations regarding security policy and standards violations, security controls failure and incident response situationUnderstanding of network, desktop and server technologies, including experience with network intrusion methods, network containment, segregation techniques and technologies such as Intrusion Detection Systems (IDS) and Intrusion Protection Systems (IPS)Cloud security knowledge and skills; securing cloud environments as well as detecting and responding to cyber security incidents in the cloudLog (network, security, access, OS, application, etc.) analysis skills and experience in relation to identifying and investigating security incidentsProficiency with Windows, Mac OSX and LinuxUnderstanding of application security and dev-sec-opsCoding/scripting experience (PowerShell, Python, Ruby, Java, VB Scripting etc.)Malware analysis, virus exploitation and mitigation techniques experience.The ability to learn and apply new concepts quicklyResolves problems independently and/or through a support teamKnowledge of ITIL best practices and process improvementsAbility to balance and prioritize workMust be trustworthy in keeping sensitive data confidentialAdditional skills and qualifications preferred, but not required.One or more of the following professional certificationsCertified Information Security Professional (CISSP)Global Information Assurance Certifications (GIAC)Education and ExperienceRequires a Bachelor’s degree in computer science or related field, or equivalent work experienceFive years of information technology experience with three years in an information security-related roleNIKE, Inc. is a growth company that looks for team members to grow with it. Nike offers a generous total rewards package, casual work environment, a diverse and inclusive culture, and an electric atmosphere for professional development. No matter the location, or the role, every Nike employee shares one galvanizing mission: To bring inspiration and innovation to every athlete* in the world.NIKE, Inc. is committed to employing a diverse workforce. Qualified applicants will receive consideration without regard to race, color, religion, sex, national origin, age, sexual orientation, gender identity, gender expression, veteran status, or disability.How We HireAt NIKE, Inc. we promise to provide a premium, inclusive, compelling and authentic candidate experience. Delivering on this promise means we allow you to be at your best — and to do that, you need to understand how the hiring process works. Transparency is key.\r\n",
      "\r\n",
      "* This overview explains our hiring process for corporate roles. Note there may be different hiring steps involved for non-corporate roles.Start nowBenefitsWhether it’s transportation or financial health, we continually invest in our employees to help them achieve greatness — inside and outside of work. All who work here should be able to realize their full potential.Employee Assistance ProgramHolidaysMedical PlanPaid Time Off (PTO)Product DiscountsLearn moreFIND A STOREBECOME A MEMBERSIGN UP FOR EMAILSEND US FEEDBACKSTUDENT DISCOUNTSGET HELPGET HELPOrder StatusDeliveryReturnsPayment OptionsContact Us On Nike.com InquiriesContact Us On All Other InquiriesABOUT NIKEABOUT NIKENewsCareersInvestorsSustainabilityIndia© 2024 Nike, Inc. All Rights ReservedGuidesNike AdaptNike Air MaxNike FlyleatherNike PegasusNike Zoom FlyNike AirNike FlyEaseNike FreeNike ReactNike ZoomXNike Air Force 1Nike FlyknitNike JoyrideNike VaporflyTerms of SaleTerms of UseNike Privacy Policy\n"
     ]
    }
   ],
   "source": [
    "loader = WebBaseLoader(\"https://jobs.nike.com/job/R-36945?from=job%20search%20funnel\")\n",
    "\n",
    "page_data = loader.load().pop().page_content\n",
    "\n",
    "print(page_data)"
   ]
  },
  {
   "cell_type": "code",
   "execution_count": 30,
   "id": "c119b4e3",
   "metadata": {},
   "outputs": [],
   "source": [
    "from langchain_core.prompts import PromptTemplate\n",
    "\n",
    "prompt_extract = PromptTemplate.from_template(\n",
    "    \"\"\"\n",
    "    ### Scraped Text from Website:\n",
    "    {page_data}\n",
    "    \n",
    "    ### Instructions:\n",
    "    This data is coming from a career's page of a website.\n",
    "    Your Job is to extract the Job postings and return them in the JSON format containing the following keys:\n",
    "    'role', 'experience', 'skills' and 'description'.\n",
    "    Only return the valid JSON.\n",
    "    \n",
    "    ###VALID JSON (NO PREAMBLE):  \n",
    "    \n",
    "    \"\"\")\n",
    "\n",
    "chain_extract = prompt_extract | llm\n",
    "\n",
    "response = chain_extract.invoke(input={'page_data':page_data})"
   ]
  },
  {
   "cell_type": "code",
   "execution_count": 31,
   "id": "10af34eb",
   "metadata": {},
   "outputs": [
    {
     "name": "stdout",
     "output_type": "stream",
     "text": [
      "{\n",
      "\"role\": \"Lead Cyber Defense Incident Responder\",\n",
      "\"experience\": \"Minimum five years of security monitoring experience and incident response activities; preferably within a professional services firm or similar environment\",\n",
      "\"skills\": [\"Solid knowledge of information security principles and practice\", \"Incident response and crisis management\", \"Network, desktop and server technologies\", \"Cloud security\", \"Log analysis\", \"Proficiency with Windows, Mac OSX and Linux\", \"Application security and dev-sec-ops\", \"Coding/scripting experience (PowerShell, Python, Ruby, Java, VB Scripting etc.)\", \"Malware analysis, virus exploitation and mitigation techniques experience\", \"Quick learning abilities\", \"Problem-solving skills\", \"Knowledge of ITIL best practices and process improvements\"],\n",
      "\"description\": \"The Lead Cyber Defense Incident Responder will be responsible for identifying, containing and eradicating cyber security incidents. This position uses a wide range of tools and experience to perform the incident response functions, focusing primarily on cloud security, application security and Unix/Linux operating systems. You will work closely with Incident Coordinators and will assist in defining the scope, framework and procedures to facilitate and measure successful security incident management. Further this position will be responsible for working with other Information Security staff to enhance or develop new security controls to proactively reduce further issues or provide enriched detective and reactive capabilities. Successful Lead Cyber Defense Incident Responders must be detail oriented, have exceptional organizational, written, and verbal communication skills adept at remaining calm and making good decisions under pressure.\"\n",
      "}\n"
     ]
    }
   ],
   "source": [
    "print(response.content)"
   ]
  },
  {
   "cell_type": "code",
   "execution_count": 34,
   "id": "19a74818",
   "metadata": {},
   "outputs": [],
   "source": [
    "from langchain_core.output_parsers import JsonOutputParser\n",
    "\n",
    "json_parser = JsonOutputParser()\n",
    "\n",
    "json_data = json_parser.parse(response.content)"
   ]
  },
  {
   "cell_type": "code",
   "execution_count": 36,
   "id": "6ede3f14",
   "metadata": {},
   "outputs": [
    {
     "data": {
      "text/plain": [
       "{'role': 'Lead Cyber Defense Incident Responder',\n",
       " 'experience': 'Minimum five years of security monitoring experience and incident response activities; preferably within a professional services firm or similar environment',\n",
       " 'skills': ['Solid knowledge of information security principles and practice',\n",
       "  'Incident response and crisis management',\n",
       "  'Network, desktop and server technologies',\n",
       "  'Cloud security',\n",
       "  'Log analysis',\n",
       "  'Proficiency with Windows, Mac OSX and Linux',\n",
       "  'Application security and dev-sec-ops',\n",
       "  'Coding/scripting experience (PowerShell, Python, Ruby, Java, VB Scripting etc.)',\n",
       "  'Malware analysis, virus exploitation and mitigation techniques experience',\n",
       "  'Quick learning abilities',\n",
       "  'Problem-solving skills',\n",
       "  'Knowledge of ITIL best practices and process improvements'],\n",
       " 'description': 'The Lead Cyber Defense Incident Responder will be responsible for identifying, containing and eradicating cyber security incidents. This position uses a wide range of tools and experience to perform the incident response functions, focusing primarily on cloud security, application security and Unix/Linux operating systems. You will work closely with Incident Coordinators and will assist in defining the scope, framework and procedures to facilitate and measure successful security incident management. Further this position will be responsible for working with other Information Security staff to enhance or develop new security controls to proactively reduce further issues or provide enriched detective and reactive capabilities. Successful Lead Cyber Defense Incident Responders must be detail oriented, have exceptional organizational, written, and verbal communication skills adept at remaining calm and making good decisions under pressure.'}"
      ]
     },
     "execution_count": 36,
     "metadata": {},
     "output_type": "execute_result"
    }
   ],
   "source": [
    "json_data"
   ]
  },
  {
   "cell_type": "code",
   "execution_count": 38,
   "id": "c1854bca",
   "metadata": {},
   "outputs": [],
   "source": [
    "import pandas as pd\n",
    "\n",
    "portfolios = pd.read_csv(\"my_portfolio.csv\")"
   ]
  },
  {
   "cell_type": "code",
   "execution_count": 39,
   "id": "4ead5423",
   "metadata": {},
   "outputs": [],
   "source": [
    "import chromadb\n",
    "\n",
    "client = chromadb.PersistentClient('vectorstore')\n",
    "collection = client.get_or_create_collection(name=\"portfolios\")\n"
   ]
  },
  {
   "cell_type": "code",
   "execution_count": 44,
   "id": "0b76040b",
   "metadata": {},
   "outputs": [],
   "source": [
    "import uuid\n",
    "if not collection.count():\n",
    "    for _, row in portfolios.iterrows():\n",
    "        collection.add(documents=row[\"Techstack\"],\n",
    "                      metadatas={\"links\": row[\"Links\"]},\n",
    "                      ids=[str(uuid.uuid4())])"
   ]
  },
  {
   "cell_type": "code",
   "execution_count": 51,
   "id": "e60996fd",
   "metadata": {},
   "outputs": [],
   "source": [
    "links = collection.query(\n",
    "    query_texts=json_data['skills'],\n",
    "    n_results=2\n",
    ").get('metadatas', [])"
   ]
  },
  {
   "cell_type": "code",
   "execution_count": 52,
   "id": "de692e6a",
   "metadata": {},
   "outputs": [
    {
     "name": "stdout",
     "output_type": "stream",
     "text": [
      "Subject: Experienced Lead Cyber Defense Incident Responder Services at AtliQ\n",
      "\n",
      "Dear Hiring Manager,\n",
      "\n",
      "I came across the Lead Cyber Defense Incident Responder job posting and believe AtliQ can provide the expertise and skills required for this role. Our team has extensive experience in security monitoring, incident response, and cloud security, with a strong focus on application security and Unix/Linux operating systems.\n",
      "\n",
      "AtliQ's expertise includes:\n",
      "\n",
      "1. Solid knowledge of information security principles and practices\n",
      "2. Incident response and crisis management\n",
      "3. Network, desktop, and server technologies\n",
      "4. Cloud security and log analysis\n",
      "5. Proficiency with Windows, Mac OSX, and Linux\n",
      "6. Application security and dev-sec-ops\n",
      "7. Coding/scripting experience (Python, PowerShell, Ruby, Java, VB Scripting etc.)\n",
      "8. Malware analysis, virus exploitation, and mitigation techniques\n",
      "9. Quick learning abilities and problem-solving skills\n",
      "\n",
      "Our team has a proven track record of identifying, containing, and eradicating cybersecurity incidents. We work closely with Incident Coordinators and assist in defining the scope, framework, and procedures for incident management. Additionally, we collaborate with other Information Security staff to enhance or develop new security controls, ensuring proactive risk reduction and enhanced detective and reactive capabilities.\n",
      "\n",
      "To further showcase AtliQ's capabilities, I would like to share some relevant portfolio links:\n",
      "\n",
      "* DevOps: <https://example.com/devops-portfolio>\n",
      "* Angular: <https://example.com/angular-portfolio>\n",
      "* Machine Learning & Python: <https://example.com/ml-python-portfolio>\n",
      "* iOS AR: <https://example.com/ios-ar-portfolio>\n",
      "\n",
      "Our team is detail-oriented, has exceptional organizational, written, and verbal communication skills, and excels at remaining calm and making good decisions under pressure. We are confident that our expertise aligns with your needs and look forward to the opportunity to discuss our capabilities further.\n",
      "\n",
      "Best regards,\n",
      "\n",
      "Mohan\n",
      "Business Development Executive\n",
      "AtliQ AI & Software Consulting\n"
     ]
    }
   ],
   "source": [
    "prompt_email = PromptTemplate.from_template(\n",
    "        \"\"\"\n",
    "        ### JOB DESCRIPTION:\n",
    "        {job_description}\n",
    "        \n",
    "        ### INSTRUCTION:\n",
    "        You are Mohan, a business development executive at AtliQ. AtliQ is an AI & Software Consulting company dedicated to facilitating\n",
    "        the seamless integration of business processes through automated tools. \n",
    "        Over our experience, we have empowered numerous enterprises with tailored solutions, fostering scalability, \n",
    "        process optimization, cost reduction, and heightened overall efficiency. \n",
    "        Your job is to write a cold email to the client regarding the job mentioned above describing the capability of AtliQ \n",
    "        in fulfilling their needs.\n",
    "        Also add the most relevant ones from the following links to showcase Atliq's portfolio: {link_list}\n",
    "        Remember you are Mohan, BDE at AtliQ. \n",
    "        Do not provide a preamble.\n",
    "        ### EMAIL (NO PREAMBLE):\n",
    "        \n",
    "        \"\"\"\n",
    "        )\n",
    "\n",
    "chain_email = prompt_email | llm\n",
    "res = chain_email.invoke({\"job_description\": str(json_data), \"link_list\": links})\n",
    "print(res.content)"
   ]
  },
  {
   "cell_type": "code",
   "execution_count": null,
   "id": "b42bfe5b",
   "metadata": {},
   "outputs": [],
   "source": []
  }
 ],
 "metadata": {
  "kernelspec": {
   "display_name": "Python 3 (ipykernel)",
   "language": "python",
   "name": "python3"
  },
  "language_info": {
   "codemirror_mode": {
    "name": "ipython",
    "version": 3
   },
   "file_extension": ".py",
   "mimetype": "text/x-python",
   "name": "python",
   "nbconvert_exporter": "python",
   "pygments_lexer": "ipython3",
   "version": "3.11.5"
  }
 },
 "nbformat": 4,
 "nbformat_minor": 5
}
